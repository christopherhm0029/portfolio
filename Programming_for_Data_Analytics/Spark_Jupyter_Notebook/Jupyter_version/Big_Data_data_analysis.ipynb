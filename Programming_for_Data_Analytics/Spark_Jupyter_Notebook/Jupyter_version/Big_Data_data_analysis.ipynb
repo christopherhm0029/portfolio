{
 "cells": [
  {
   "cell_type": "code",
   "execution_count": 1,
   "metadata": {},
   "outputs": [],
   "source": [
    "from pymongo import MongoClient\n",
    "import numpy as np \n",
    "import pandas as pd\n",
    "from pandas import DataFrame\n",
    "from pyspark.sql import SparkSession,SQLContext\n",
    "from pyspark import sql, SparkConf\n",
    "import mysql.connector\n",
    "from sqlalchemy import types, create_engine\n",
    "import pymysql"
   ]
  },
  {
   "cell_type": "code",
   "execution_count": 2,
   "metadata": {},
   "outputs": [],
   "source": [
    "###             Mongodb  CONFIGURATION         ####\n",
    "# client= MongoClient('mongodb://localhost:27017/') Error file too big for the machine to handle\n",
    "\n",
    "# db = client.test #Databa name\n",
    "\n",
    "# collection_1  = db.students # Raw students dataset\n",
    "\n",
    "# db_students =  pd.DataFrame(list(collection_1.find())).drop(columns=['_id'])\n",
    "\n",
    "# collection_2 = db.master_dataset # Raw master_dataset # Too big to handle low memory error kernel killed #\n",
    "\n",
    "# db_master = pd.DataFrame(list(collection_2.find())).drop(columns=['_id'])\n",
    "\n",
    "# collection_3 = db.workers_dataset\n",
    "\n",
    "# db_workers = pd.DataFrame(list(collection_3.find())).drop(columns=['_id'])"
   ]
  },
  {
   "cell_type": "code",
   "execution_count": 3,
   "metadata": {},
   "outputs": [],
   "source": [
    "###     MYSQL DATABASE CONFIGURATION           ####\n",
    "\n",
    "MYSQL_USER     = 'root'\n",
    "MYSQL_PASSWORD = 'P455w0rd.'\n",
    "MYSQL_HOST_IP  = '127.0.0.1'\n",
    "MYSQL_PORT     = '3306'\n",
    "MYSQL_DATABASE = 'master_europe'"
   ]
  },
  {
   "cell_type": "code",
   "execution_count": 4,
   "metadata": {},
   "outputs": [],
   "source": [
    "engine = create_engine('mysql+mysqlconnector://'+MYSQL_USER+':'+MYSQL_PASSWORD+'@'+MYSQL_HOST_IP+':'+MYSQL_PORT+'/'+MYSQL_DATABASE, echo=False)\n",
    "\n",
    "###         Local loading the raw datasets      ####\n",
    "\n",
    "db_student = pd.read_csv(\"/home/chris/Desktop/DataAnalytics/students.csv\",sep=',', error_bad_lines=False, index_col=False, dtype='unicode')\n",
    "\n",
    "db_workers = pd.read_csv(\"/home/chris/Desktop/DataAnalytics/workers.csv\",sep=',', error_bad_lines=False, index_col=False, dtype='unicode')"
   ]
  },
  {
   "cell_type": "code",
   "execution_count": null,
   "metadata": {},
   "outputs": [],
   "source": [
    "db_master = pd.read_csv(\"/home/chris/Desktop/DataAnalytics/master_dataset.csv\",sep=',', error_bad_lines=False, index_col=False, dtype='unicode')"
   ]
  },
  {
   "cell_type": "code",
   "execution_count": null,
   "metadata": {},
   "outputs": [],
   "source": [
    "### Renaming and cleaning inadequate variables values #####\n",
    "\n",
    "db_workers = db_workers.rename(columns=lambda x: x.replace('Clean_', '').lower())\n",
    "\n",
    "db_student = db_student.rename(columns=lambda x: x.replace('Clean', '').lower())\n",
    "\n",
    "db_student['costschool'] = db_student.costschool.str.replace('�','')\n",
    "\n",
    "db_student = db_student.drop(columns=\"uni+ag:bhtcount\")"
   ]
  },
  {
   "cell_type": "code",
   "execution_count": null,
   "metadata": {},
   "outputs": [],
   "source": [
    "###             Changing variables type object (str) to float64  amd filtering sections ######\n",
    "\n",
    "\n",
    "db_student_cost_mod = (db_student['costschool'].str.replace(\",\",\"\")\n",
    "                                                    .fillna(0)\n",
    "                                                    .astype(float))\n",
    "\n",
    "new_value = db_student_cost_mod.to_frame().reset_index(drop=True)\n",
    "\n",
    "db_student['costschool'] = new_value\n",
    "\n",
    "\n",
    "db_student_home_mod = (db_student['homeshare'].str.replace(\"Unknown\",\"0\")\n",
    "                                                    .astype(int))\n",
    "\n",
    "new_value2 = db_student_home_mod.to_frame().reset_index(drop=True)\n",
    "\n",
    "db_student['homeshare'] = new_value2\n",
    "\n",
    "db_student_room_mod = (db_student['roomshare'].str.replace(\"NaN\",\"0\")\n",
    "                                                   .fillna(0)\n",
    "                                                   .astype(int))\n",
    "\n",
    "new_value3 = db_student_room_mod.to_frame().reset_index(drop=True)\n",
    "\n",
    "db_student['roomshare'] = new_value3\n",
    "\n",
    "##########################################"
   ]
  },
  {
   "cell_type": "code",
   "execution_count": null,
   "metadata": {},
   "outputs": [],
   "source": [
    "countries = db_student.groupby(['country']).groups.keys() # Key = Countries \n",
    "\n",
    "list_country = list(countries)\n",
    "\n",
    "my_dict = {} # Dictionary total number of students per country\n",
    "\n",
    "for x in range(0,len(list_country)): # iterate through the total number of countries\n",
    "    \n",
    "    counter = 0\n",
    "    \n",
    "    for i in range(0,len(db_student.iloc[:,0])): # iterate through all the rows per Country\n",
    "        \n",
    "        value = list_country[x]\n",
    "\n",
    "        if i < 1077: # 1077 total number of row values\n",
    "            \n",
    "            if value == (db_student['country'].iloc[i]): # \n",
    "                \n",
    "                counter = counter + 1 # count the number of students per country\n",
    "            \n",
    "        elif i == 1077: #1077  \n",
    "\n",
    "            my_dict.__setitem__(value,counter) #updating the dictionary Key:Value = Country: Total_number_of_students\n",
    "\n",
    "            #my_dict\n",
    "                \n",
    "        else:\n",
    "            pass\n",
    "\n",
    "################################################################################"
   ]
  },
  {
   "cell_type": "code",
   "execution_count": null,
   "metadata": {},
   "outputs": [],
   "source": [
    "# Simpler version of above\n",
    "\n",
    "# db_student_population = db_student.groupby('country').size().reset_index(name='count')"
   ]
  },
  {
   "cell_type": "code",
   "execution_count": null,
   "metadata": {},
   "outputs": [],
   "source": [
    "### Creating new dataframe to analyze the student population base on Country ####\n",
    "\n",
    "db_student_country =pd.DataFrame(list(my_dict.items()),columns = ['country','total']) \n",
    "\n",
    "db_student_country = db_student_country.sort_values(by='total', ascending=False)\n",
    "\n",
    "db_student_country = db_student_country.reset_index(drop=True)"
   ]
  },
  {
   "cell_type": "code",
   "execution_count": null,
   "metadata": {},
   "outputs": [],
   "source": [
    "###        Mapping and reducing Key:Value Countries:total_cost_school           ####\n",
    "\n",
    "###         MapReduce pattern summarization \n",
    "\n",
    "db_student_cost_school = db_student.groupby(['country'], as_index=False)['costschool'].sum()\n",
    "\n",
    "db_student_schoolCost = db_student_cost_school.sort_values(by='costschool', ascending=False).reset_index(drop=True)"
   ]
  },
  {
   "cell_type": "code",
   "execution_count": null,
   "metadata": {},
   "outputs": [],
   "source": [
    "###         Design pattern Join Full Outer Join of Country + School cost on Country ID \n",
    "# \n",
    "#           Merge key indicator in both dataframes \n",
    "\n",
    "table_student_cost_edu = pd.merge(db_country, db_student_schoolCost,how='outer', on='country',indicator=True)\n",
    "\n",
    "###             Sending the Dataframe to MYSQL DATABASE             #####\n",
    "\n",
    "table_student_cost_edu.to_sql(\"table_student_cost_edu\", engine, if_exists=\"replace\", index=False)"
   ]
  },
  {
   "cell_type": "code",
   "execution_count": null,
   "metadata": {},
   "outputs": [],
   "source": [
    "####        Table Students Homesharing number per Country            #####\n",
    "\n",
    "table_student_homesharing = db_student.groupby('country')['homeshare'].value_counts().unstack().fillna(0) \n",
    "\n",
    "table_student_homesharing.to_sql(\"table_student_homesharing\", engine, if_exists=\"replace\", index=False)"
   ]
  },
  {
   "cell_type": "code",
   "execution_count": null,
   "metadata": {},
   "outputs": [],
   "source": [
    "####        Table Students Roomsharing number per Country             #####\n",
    "\n",
    "table_student_roomsharing = db_student.groupby('country')['roomshare'].value_counts().unstack().fillna(0)\n",
    "\n",
    "table_student_roomsharing.to_sql(\"table_student_roomsharing\", engine, if_exists=\"replace\", index=False)"
   ]
  },
  {
   "cell_type": "code",
   "execution_count": null,
   "metadata": {},
   "outputs": [],
   "source": [
    "## Worker Raw Dataset cleaning and analysis proccess  #####\n",
    "\n",
    "db_workers_cost_edu = (db_workers['cost_education'].str.replace(\"NaN\",\"0\")\n",
    "                                                   .fillna(0)\n",
    "                                                   .astype(float))\n",
    "\n",
    "new_value4 = db_workers_cost_edu.to_frame().reset_index(drop=True).round(decimals=2)\n",
    "\n",
    "\n",
    "db_workers['cost_education'] = new_value4\n",
    "\n"
   ]
  },
  {
   "cell_type": "code",
   "execution_count": null,
   "metadata": {},
   "outputs": [],
   "source": [
    "### Table visualization Total cost of education based on Countries  ######\n",
    "\n",
    "table_workers_cost_edu = db_workers.groupby(['country'], as_index=False)['cost_education'].sum()\n",
    "\n",
    "db_workers_population = db_workers.groupby('country').size().reset_index(name='count')\n",
    "\n",
    "table_workers_cost_edu.to_sql(\"table_workers_cost_edu\", engine, if_exists=\"replace\", index=False)"
   ]
  },
  {
   "cell_type": "code",
   "execution_count": null,
   "metadata": {},
   "outputs": [],
   "source": [
    "###          Table Mental Health Students per Country               #######\n",
    "\n",
    "table_workers_mental_health = db_workers.groupby('country')['mental_health_household'].value_counts().unstack().fillna(0)\n",
    "\n",
    "table_workers_mental_health.to_sql(\"table_workers_mental_health\", engine, if_exists=\"replace\", index=False)"
   ]
  },
  {
   "cell_type": "code",
   "execution_count": null,
   "metadata": {},
   "outputs": [],
   "source": [
    "###           Table English Student Level per Country                ########\n",
    "\n",
    "table_english_level = db_workers.groupby('country')['english_level'].value_counts().unstack().fillna(0)\n",
    "\n",
    "table_english_level.to_sql(\"table_english_level\", engine, if_exists=\"replace\", index=False)"
   ]
  },
  {
   "cell_type": "code",
   "execution_count": null,
   "metadata": {},
   "outputs": [],
   "source": [
    "###            Table Satisfaction towards Enlighs Online Courses      ########\n",
    "\n",
    "table_satisfaction_courses = db_workers.groupby('country')['satisfied_online_courses'].value_counts().unstack().fillna(0)\n",
    "\n",
    "table_satisfaction_courses.to_sql(\"table_satisfaction_courses\", engine, if_exists=\"replace\", index=False)"
   ]
  },
  {
   "cell_type": "code",
   "execution_count": null,
   "metadata": {},
   "outputs": [],
   "source": [
    "####   Third part Master_dataset                                               #####\n",
    "\n",
    "#####       Filtering database by region                                            #####\n",
    "\n",
    "europe_region = db_master.groupby(\"region\") \n",
    "\n",
    "db_europe = europe_region.get_group(\"EU\")\n",
    "\n",
    "db_europe_ie = db_europe.groupby('country')\n",
    "\n",
    "db_ie = db_europe_ie.get_group('IE')\n",
    "\n",
    "table_ie_covid19 = db_ie\n",
    "\n",
    "db_ie.to_sql(\"table_ie_covid19\", engine, if_exists=\"replace\", index=False)\n",
    "\n",
    "db_ie.groupby('sex')['age'].value_counts().unstack().fillna(0)\n",
    "\n",
    "###########################################################################################"
   ]
  },
  {
   "cell_type": "code",
   "execution_count": null,
   "metadata": {},
   "outputs": [],
   "source": [
    "#show the countries (unique value)\n",
    "european_countries = db_master.groupby(['country']).groups.keys()"
   ]
  }
 ],
 "metadata": {
  "kernelspec": {
   "display_name": "Python 3",
   "language": "python",
   "name": "python3"
  },
  "language_info": {
   "codemirror_mode": {
    "name": "ipython",
    "version": 3
   },
   "file_extension": ".py",
   "mimetype": "text/x-python",
   "name": "python",
   "nbconvert_exporter": "python",
   "pygments_lexer": "ipython3",
   "version": "3.6.9"
  }
 },
 "nbformat": 4,
 "nbformat_minor": 4
}
